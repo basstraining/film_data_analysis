{
 "cells": [
  {
   "cell_type": "code",
   "execution_count": 1,
   "id": "f7451a5b-2138-436e-97d2-1a165c9a0a85",
   "metadata": {},
   "outputs": [],
   "source": [
    "import pandas as pd\n",
    "import numpy as np\n",
    "import sqlite3"
   ]
  },
  {
   "cell_type": "code",
   "execution_count": 2,
   "id": "97d45d77-9775-41d5-9b8a-e842ec87f514",
   "metadata": {},
   "outputs": [],
   "source": [
    "con = sqlite3.connect('../data/imdb/im.db')"
   ]
  },
  {
   "cell_type": "code",
   "execution_count": 3,
   "id": "3cc41c2e-54bf-41c4-9f26-73c1363fcf9a",
   "metadata": {},
   "outputs": [
    {
     "data": {
      "text/html": [
       "<div>\n",
       "<style scoped>\n",
       "    .dataframe tbody tr th:only-of-type {\n",
       "        vertical-align: middle;\n",
       "    }\n",
       "\n",
       "    .dataframe tbody tr th {\n",
       "        vertical-align: top;\n",
       "    }\n",
       "\n",
       "    .dataframe thead th {\n",
       "        text-align: right;\n",
       "    }\n",
       "</style>\n",
       "<table border=\"1\" class=\"dataframe\">\n",
       "  <thead>\n",
       "    <tr style=\"text-align: right;\">\n",
       "      <th></th>\n",
       "      <th>type</th>\n",
       "      <th>name</th>\n",
       "      <th>tbl_name</th>\n",
       "      <th>rootpage</th>\n",
       "      <th>sql</th>\n",
       "    </tr>\n",
       "  </thead>\n",
       "  <tbody>\n",
       "    <tr>\n",
       "      <th>0</th>\n",
       "      <td>table</td>\n",
       "      <td>movie_basics</td>\n",
       "      <td>movie_basics</td>\n",
       "      <td>2</td>\n",
       "      <td>CREATE TABLE \"movie_basics\" (\\n\"movie_id\" TEXT...</td>\n",
       "    </tr>\n",
       "    <tr>\n",
       "      <th>1</th>\n",
       "      <td>table</td>\n",
       "      <td>directors</td>\n",
       "      <td>directors</td>\n",
       "      <td>3</td>\n",
       "      <td>CREATE TABLE \"directors\" (\\n\"movie_id\" TEXT,\\n...</td>\n",
       "    </tr>\n",
       "    <tr>\n",
       "      <th>2</th>\n",
       "      <td>table</td>\n",
       "      <td>known_for</td>\n",
       "      <td>known_for</td>\n",
       "      <td>4</td>\n",
       "      <td>CREATE TABLE \"known_for\" (\\n\"person_id\" TEXT,\\...</td>\n",
       "    </tr>\n",
       "    <tr>\n",
       "      <th>3</th>\n",
       "      <td>table</td>\n",
       "      <td>movie_akas</td>\n",
       "      <td>movie_akas</td>\n",
       "      <td>5</td>\n",
       "      <td>CREATE TABLE \"movie_akas\" (\\n\"movie_id\" TEXT,\\...</td>\n",
       "    </tr>\n",
       "    <tr>\n",
       "      <th>4</th>\n",
       "      <td>table</td>\n",
       "      <td>movie_ratings</td>\n",
       "      <td>movie_ratings</td>\n",
       "      <td>6</td>\n",
       "      <td>CREATE TABLE \"movie_ratings\" (\\n\"movie_id\" TEX...</td>\n",
       "    </tr>\n",
       "    <tr>\n",
       "      <th>5</th>\n",
       "      <td>table</td>\n",
       "      <td>persons</td>\n",
       "      <td>persons</td>\n",
       "      <td>7</td>\n",
       "      <td>CREATE TABLE \"persons\" (\\n\"person_id\" TEXT,\\n ...</td>\n",
       "    </tr>\n",
       "    <tr>\n",
       "      <th>6</th>\n",
       "      <td>table</td>\n",
       "      <td>principals</td>\n",
       "      <td>principals</td>\n",
       "      <td>8</td>\n",
       "      <td>CREATE TABLE \"principals\" (\\n\"movie_id\" TEXT,\\...</td>\n",
       "    </tr>\n",
       "    <tr>\n",
       "      <th>7</th>\n",
       "      <td>table</td>\n",
       "      <td>writers</td>\n",
       "      <td>writers</td>\n",
       "      <td>9</td>\n",
       "      <td>CREATE TABLE \"writers\" (\\n\"movie_id\" TEXT,\\n  ...</td>\n",
       "    </tr>\n",
       "  </tbody>\n",
       "</table>\n",
       "</div>"
      ],
      "text/plain": [
       "    type           name       tbl_name  rootpage  \\\n",
       "0  table   movie_basics   movie_basics         2   \n",
       "1  table      directors      directors         3   \n",
       "2  table      known_for      known_for         4   \n",
       "3  table     movie_akas     movie_akas         5   \n",
       "4  table  movie_ratings  movie_ratings         6   \n",
       "5  table        persons        persons         7   \n",
       "6  table     principals     principals         8   \n",
       "7  table        writers        writers         9   \n",
       "\n",
       "                                                 sql  \n",
       "0  CREATE TABLE \"movie_basics\" (\\n\"movie_id\" TEXT...  \n",
       "1  CREATE TABLE \"directors\" (\\n\"movie_id\" TEXT,\\n...  \n",
       "2  CREATE TABLE \"known_for\" (\\n\"person_id\" TEXT,\\...  \n",
       "3  CREATE TABLE \"movie_akas\" (\\n\"movie_id\" TEXT,\\...  \n",
       "4  CREATE TABLE \"movie_ratings\" (\\n\"movie_id\" TEX...  \n",
       "5  CREATE TABLE \"persons\" (\\n\"person_id\" TEXT,\\n ...  \n",
       "6  CREATE TABLE \"principals\" (\\n\"movie_id\" TEXT,\\...  \n",
       "7  CREATE TABLE \"writers\" (\\n\"movie_id\" TEXT,\\n  ...  "
      ]
     },
     "execution_count": 3,
     "metadata": {},
     "output_type": "execute_result"
    }
   ],
   "source": [
    "imdb_schema = pd.read_sql(\"\"\"\n",
    "\n",
    "SELECT *\n",
    "FROM sqlite_master\n",
    "\n",
    "\"\"\", con)\n",
    "imdb_schema"
   ]
  },
  {
   "cell_type": "code",
   "execution_count": 4,
   "id": "ff7311a9-4c04-4bbc-8701-520628c0c8ea",
   "metadata": {},
   "outputs": [],
   "source": [
    "rating_info_comb_5k = pd.read_sql(\"\"\"\n",
    "\n",
    "SELECT *\n",
    "FROM movie_basics AS b\n",
    "    JOIN movie_ratings AS r\n",
    "        ON b.movie_id = r.movie_id\n",
    "WHERE numvotes > 5000\n",
    "\n",
    "\"\"\", con)"
   ]
  },
  {
   "cell_type": "code",
   "execution_count": 5,
   "id": "805b367e-c843-4fd2-ba96-fde6ea44c8db",
   "metadata": {},
   "outputs": [
    {
     "data": {
      "text/html": [
       "<div>\n",
       "<style scoped>\n",
       "    .dataframe tbody tr th:only-of-type {\n",
       "        vertical-align: middle;\n",
       "    }\n",
       "\n",
       "    .dataframe tbody tr th {\n",
       "        vertical-align: top;\n",
       "    }\n",
       "\n",
       "    .dataframe thead th {\n",
       "        text-align: right;\n",
       "    }\n",
       "</style>\n",
       "<table border=\"1\" class=\"dataframe\">\n",
       "  <thead>\n",
       "    <tr style=\"text-align: right;\">\n",
       "      <th></th>\n",
       "      <th>id</th>\n",
       "      <th>release_date</th>\n",
       "      <th>movie</th>\n",
       "      <th>production_budget</th>\n",
       "      <th>domestic_gross</th>\n",
       "      <th>worldwide_gross</th>\n",
       "    </tr>\n",
       "  </thead>\n",
       "  <tbody>\n",
       "    <tr>\n",
       "      <th>0</th>\n",
       "      <td>1</td>\n",
       "      <td>Dec 18, 2009</td>\n",
       "      <td>Avatar</td>\n",
       "      <td>$425,000,000</td>\n",
       "      <td>$760,507,625</td>\n",
       "      <td>$2,776,345,279</td>\n",
       "    </tr>\n",
       "    <tr>\n",
       "      <th>1</th>\n",
       "      <td>2</td>\n",
       "      <td>May 20, 2011</td>\n",
       "      <td>Pirates of the Caribbean: On Stranger Tides</td>\n",
       "      <td>$410,600,000</td>\n",
       "      <td>$241,063,875</td>\n",
       "      <td>$1,045,663,875</td>\n",
       "    </tr>\n",
       "    <tr>\n",
       "      <th>2</th>\n",
       "      <td>3</td>\n",
       "      <td>Jun 7, 2019</td>\n",
       "      <td>Dark Phoenix</td>\n",
       "      <td>$350,000,000</td>\n",
       "      <td>$42,762,350</td>\n",
       "      <td>$149,762,350</td>\n",
       "    </tr>\n",
       "    <tr>\n",
       "      <th>3</th>\n",
       "      <td>4</td>\n",
       "      <td>May 1, 2015</td>\n",
       "      <td>Avengers: Age of Ultron</td>\n",
       "      <td>$330,600,000</td>\n",
       "      <td>$459,005,868</td>\n",
       "      <td>$1,403,013,963</td>\n",
       "    </tr>\n",
       "    <tr>\n",
       "      <th>4</th>\n",
       "      <td>5</td>\n",
       "      <td>Dec 15, 2017</td>\n",
       "      <td>Star Wars Ep. VIII: The Last Jedi</td>\n",
       "      <td>$317,000,000</td>\n",
       "      <td>$620,181,382</td>\n",
       "      <td>$1,316,721,747</td>\n",
       "    </tr>\n",
       "  </tbody>\n",
       "</table>\n",
       "</div>"
      ],
      "text/plain": [
       "   id  release_date                                        movie  \\\n",
       "0   1  Dec 18, 2009                                       Avatar   \n",
       "1   2  May 20, 2011  Pirates of the Caribbean: On Stranger Tides   \n",
       "2   3   Jun 7, 2019                                 Dark Phoenix   \n",
       "3   4   May 1, 2015                      Avengers: Age of Ultron   \n",
       "4   5  Dec 15, 2017            Star Wars Ep. VIII: The Last Jedi   \n",
       "\n",
       "  production_budget domestic_gross worldwide_gross  \n",
       "0      $425,000,000   $760,507,625  $2,776,345,279  \n",
       "1      $410,600,000   $241,063,875  $1,045,663,875  \n",
       "2      $350,000,000    $42,762,350    $149,762,350  \n",
       "3      $330,600,000   $459,005,868  $1,403,013,963  \n",
       "4      $317,000,000   $620,181,382  $1,316,721,747  "
      ]
     },
     "execution_count": 5,
     "metadata": {},
     "output_type": "execute_result"
    }
   ],
   "source": [
    "tn_movie_budgets_df = pd.read_csv(\"../Data/tn.movie_budgets.csv\")\n",
    "tn_movie_budgets_df.head()"
   ]
  },
  {
   "cell_type": "code",
   "execution_count": 6,
   "id": "f7238200-bf6b-4c5b-94a8-e2f0b8a29c49",
   "metadata": {},
   "outputs": [],
   "source": [
    "rating_info_comb_5k.rename(columns={'primary_title':'movie'}, inplace=True)"
   ]
  },
  {
   "cell_type": "code",
   "execution_count": 7,
   "id": "3448913c-7482-4c60-b7a5-767b2f457244",
   "metadata": {},
   "outputs": [],
   "source": [
    "info_budget_df = pd.merge(rating_info_comb_5k, tn_movie_budgets_df, on='movie')"
   ]
  },
  {
   "cell_type": "code",
   "execution_count": 8,
   "id": "8d636e10-87f5-47be-8aae-5e383627013a",
   "metadata": {},
   "outputs": [],
   "source": [
    "info_budget_df[\"production_budget\"] = info_budget_df[\"production_budget\"].replace('[\\$,]', '', regex=True).astype(int)"
   ]
  },
  {
   "cell_type": "code",
   "execution_count": 9,
   "id": "a0446921-419a-4ffc-8cb2-46419986bfc4",
   "metadata": {},
   "outputs": [],
   "source": [
    "info_budget_df[\"domestic_gross\"] = info_budget_df[\"domestic_gross\"].replace('[\\$,]', '', regex=True).astype(int)"
   ]
  },
  {
   "cell_type": "code",
   "execution_count": 10,
   "id": "37452365-f347-49d3-a271-89f4a2340f9a",
   "metadata": {},
   "outputs": [],
   "source": [
    "info_budget_df[\"worldwide_gross\"] = info_budget_df[\"worldwide_gross\"].replace('[\\$,]', '', regex=True).astype(int)"
   ]
  },
  {
   "cell_type": "code",
   "execution_count": 11,
   "id": "e5df1c83-9408-41fd-9e5b-fa3ba72782e0",
   "metadata": {},
   "outputs": [],
   "source": [
    "info_budget_df['net_revenue'] = info_budget_df[\"worldwide_gross\"] - info_budget_df[\"production_budget\"]"
   ]
  },
  {
   "cell_type": "code",
   "execution_count": 12,
   "id": "d8c62fba-1357-45e1-9cf4-ed95abd4c365",
   "metadata": {},
   "outputs": [],
   "source": [
    "info_budget_df['ROI%'] = info_budget_df['net_revenue'] / info_budget_df[\"production_budget\"]"
   ]
  },
  {
   "cell_type": "code",
   "execution_count": 13,
   "id": "0a1617b2-7a94-46bc-bfff-de4bf206e2a3",
   "metadata": {},
   "outputs": [],
   "source": [
    "info_budget_df.drop(columns=['movie_id', 'original_title', 'id', 'start_year', 'release_date'], inplace=True)"
   ]
  },
  {
   "cell_type": "code",
   "execution_count": 19,
   "id": "d6bae407-95cc-4529-b9f2-f336ec52c25a",
   "metadata": {},
   "outputs": [
    {
     "data": {
      "text/plain": [
       "Index(['movie', 'runtime_minutes', 'genres', 'averagerating', 'numvotes',\n",
       "       'production_budget', 'domestic_gross', 'worldwide_gross', 'net_revenue',\n",
       "       'ROI%'],\n",
       "      dtype='object')"
      ]
     },
     "execution_count": 19,
     "metadata": {},
     "output_type": "execute_result"
    }
   ],
   "source": [
    "info_budget_df.columns"
   ]
  },
  {
   "cell_type": "code",
   "execution_count": 23,
   "id": "6ce0a2b6-c424-4ff5-af8b-42c5b429a886",
   "metadata": {},
   "outputs": [
    {
     "data": {
      "image/png": "[encoded data removed]",
      "text/plain": [
       "<Figure size 640x480 with 1 Axes>"
      ]
     },
     "metadata": {},
     "output_type": "display_data"
    }
   ],
   "source": [
    "import matplotlib.pyplot as plt\n",
    "\n",
    "plt.scatter(info_budget_df['net_revenue'], info_budget_df['averagerating'])\n",
    "plt.title('Net Revenue Generated vs average rating')\n",
    "plt.xlabel('net revenue')\n",
    "plt.ylabel('average rating')\n",
    "plt.show()"
   ]
  },
  {
   "cell_type": "code",
   "execution_count": 25,
   "id": "5dfd15b6-1594-4fa6-8176-b6475610b8a8",
   "metadata": {},
   "outputs": [
    {
     "data": {
      "text/plain": [
       "array(['Action', 'Adventure', 'Fantasy', 'Comedy', 'Biography', 'Drama',\n",
       "       'Sport', 'Romance', 'Crime', 'Horror', 'Thriller', 'Family',\n",
       "       'Sci-Fi', 'Mystery', 'History', 'Animation', 'Documentary', 'War',\n",
       "       'Music', 'Musical', 'Western'], dtype=object)"
      ]
     },
     "execution_count": 25,
     "metadata": {},
     "output_type": "execute_result"
    }
   ],
   "source": [
    "all_genres = info_budget_df['genres'].str.split(',').explode()\n",
    "unique_genres = all_genres.unique()\n",
    "unique_genres"
   ]
  },
  {
   "cell_type": "code",
   "execution_count": 26,
   "id": "fba2a22f-9ee6-412e-89bf-fafedf6966af",
   "metadata": {},
   "outputs": [],
   "source": [
    "def create_genre_dataframe(df, genre):\n",
    "    \"\"\"\n",
    "    Creates a dataframe containing only the rows where the specified genre is one of the genres.\n",
    "\n",
    "    :param df: The original dataframe with movie data.\n",
    "    :param genre: The genre to filter by.\n",
    "    :return: A dataframe containing only rows with the specified genre.\n",
    "    \"\"\"\n",
    "    # Filter rows where the genre column contains the specified genre\n",
    "    genre_df = df[df['genres'].astype(str).str.contains(genre, na=False)]\n",
    "    return genre_df"
   ]
  },
  {
   "cell_type": "code",
   "execution_count": 28,
   "id": "241f4712-e518-43db-91ac-13216271c723",
   "metadata": {},
   "outputs": [],
   "source": [
    "horror_df = create_genre_dataframe(info_budget_df, 'Horror')\n",
    "action_df = create_genre_dataframe(info_budget_df, 'Action')\n",
    "adventure_df = create_genre_dataframe(info_budget_df, 'Adventure')\n",
    "fantasy_df = create_genre_dataframe(info_budget_df, 'Fantasy')\n",
    "scifi_df = create_genre_dataframe(info_budget_df, 'Sci-Fi')\n",
    "thriller_df = create_genre_dataframe(info_budget_df, 'Thriller')\n",
    "western_df = create_genre_dataframe(info_budget_df, 'Western')\n",
    "animation_df = create_genre_dataframe(info_budget_df, 'Animation')\n",
    "comedy_df = create_genre_dataframe(info_budget_df, 'Comedy')\n",
    "family_df = create_genre_dataframe(info_budget_df, 'Family')\n",
    "crime_df = create_genre_dataframe(info_budget_df, 'Crime')\n",
    "drama_df = create_genre_dataframe(info_budget_df, 'Drama')\n",
    "romance_df = create_genre_dataframe(info_budget_df, 'Romance')\n",
    "mystery_df = create_genre_dataframe(info_budget_df, 'Mystery')\n",
    "history_df = create_genre_dataframe(info_budget_df, 'History')\n",
    "sports_df = create_genre_dataframe(info_budget_df, 'Sport')\n",
    "biography_df = create_genre_dataframe(info_budget_df, 'Biography')\n",
    "war_df = create_genre_dataframe(info_budget_df, 'War')\n",
    "musical_df = create_genre_dataframe(info_budget_df, 'Musical')\n",
    "documentary_df = create_genre_dataframe(info_budget_df, 'Documentary')\n",
    "music_df = create_genre_dataframe(info_budget_df, 'Music')\n",
    "news_df = create_genre_dataframe(info_budget_df, 'News')"
   ]
  },
  {
   "cell_type": "code",
   "execution_count": 29,
   "id": "141fb263-fac4-4663-b3e4-2c5fe4b1e32a",
   "metadata": {},
   "outputs": [],
   "source": [
    "genre_df_dict = {'Horror': horror_df, 'Action': action_df, 'Adventure': adventure_df, 'Fantasy': fantasy_df, 'Sci-Fi': scifi_df, 'Thriller': thriller_df,\n",
    "       'Western': western_df, 'Animation': animation_df, 'Comedy': comedy_df, 'Family': family_df, 'Crime': crime_df, 'Drama': drama_df,\n",
    "       'Romance': romance_df, 'Mystery': mystery_df, 'History': history_df, 'Sport': sports_df, 'Biography': biography_df, 'War': war_df,\n",
    "       'Musical': musical_df, 'Documentary': documentary_df, 'Music': music_df, 'News': news_df}"
   ]
  },
  {
   "cell_type": "code",
   "execution_count": 30,
   "id": "2c27ed68-e2ad-4505-a673-c49770e6bd95",
   "metadata": {},
   "outputs": [
    {
     "data": {
      "text/plain": [
       "22"
      ]
     },
     "execution_count": 30,
     "metadata": {},
     "output_type": "execute_result"
    }
   ],
   "source": [
    "genre_ROI_df_dict= {'Horror': horror_df['ROI%'], 'Action': action_df['ROI%'], 'Adventure': adventure_df['ROI%'], \n",
    "                    'Fantasy': fantasy_df['ROI%'], 'Sci-Fi': scifi_df['ROI%'], 'Thriller': thriller_df['ROI%'], \n",
    "                    'Western': western_df['ROI%'], 'Animation': animation_df['ROI%'], 'Comedy': comedy_df['ROI%'], \n",
    "                    'Family': family_df['ROI%'], 'Crime': crime_df['ROI%'],\n",
    "                    'Drama': drama_df['ROI%'], 'Romance': romance_df['ROI%'], 'Mystery': mystery_df['ROI%'], \n",
    "                    'History': history_df['ROI%'], 'Sport': sports_df['ROI%'],\n",
    "                    'Biography': biography_df['ROI%'], 'War': war_df['ROI%'], 'Musical': musical_df['ROI%'], \n",
    "                    'Documentary': documentary_df['ROI%'], 'Music': music_df['ROI%'], 'News': news_df['ROI%']}\n",
    "len(genre_ROI_df_dict)"
   ]
  },
  {
   "cell_type": "code",
   "execution_count": 31,
   "id": "d1075852-38d8-42d3-82b5-cf8009ac124d",
   "metadata": {},
   "outputs": [
    {
     "data": {
      "text/plain": [
       "[('Drama', 781),\n",
       " ('Comedy', 519),\n",
       " ('Action', 463),\n",
       " ('Adventure', 376),\n",
       " ('Thriller', 289),\n",
       " ('Crime', 257),\n",
       " ('Romance', 197),\n",
       " ('Horror', 194),\n",
       " ('Sci-Fi', 154),\n",
       " ('Mystery', 145),\n",
       " ('Biography', 144),\n",
       " ('Fantasy', 138),\n",
       " ('Animation', 101),\n",
       " ('Family', 83),\n",
       " ('Music', 52)]"
      ]
     },
     "execution_count": 31,
     "metadata": {},
     "output_type": "execute_result"
    }
   ],
   "source": [
    "genre_count = [(genre, len(i)) for genre, i in genre_ROI_df_dict.items()]\n",
    "genre_count.sort(key=lambda tup: tup[1], reverse=True)\n",
    "top_15_genres = genre_count[:15]\n",
    "top_15_genres"
   ]
  },
  {
   "cell_type": "code",
   "execution_count": 57,
   "id": "54f74ac0-ea4e-43a6-b077-3ee2cce88ed5",
   "metadata": {},
   "outputs": [],
   "source": [
    "net_rev_df = pd.DataFrame(info_budget_df.groupby('movie').net_revenue.sum())"
   ]
  },
  {
   "cell_type": "code",
   "execution_count": 61,
   "id": "36b31bd9-a5a1-4c7a-ba50-2fb5d5803948",
   "metadata": {},
   "outputs": [],
   "source": [
    "netrev_sorted_df = net_rev_df.sort_values('net_revenue', ascending=False)"
   ]
  },
  {
   "cell_type": "code",
   "execution_count": 65,
   "id": "6d5d6a10-e5e2-4126-a888-76c947035552",
   "metadata": {},
   "outputs": [],
   "source": [
    "from scipy import stats"
   ]
  },
  {
   "cell_type": "code",
   "execution_count": 66,
   "id": "a77d2bf5-73f0-42d9-8fa8-1d1199ccffbf",
   "metadata": {},
   "outputs": [],
   "source": [
    "# anova test"
   ]
  },
  {
   "cell_type": "code",
   "execution_count": null,
   "id": "cd19184e-0505-446f-9160-d2098decef7f",
   "metadata": {},
   "outputs": [],
   "source": []
  },
  {
   "cell_type": "code",
   "execution_count": null,
   "id": "a7983442-a1b4-492b-9222-1ecd77d8c33f",
   "metadata": {},
   "outputs": [],
   "source": []
  },
  {
   "cell_type": "code",
   "execution_count": null,
   "id": "8e7d6f0c-532e-4df8-88aa-19e065303d05",
   "metadata": {},
   "outputs": [],
   "source": []
  },
  {
   "cell_type": "code",
   "execution_count": null,
   "id": "0c237bf4-ea44-48cf-97f4-a27c6706189b",
   "metadata": {},
   "outputs": [],
   "source": []
  },
  {
   "cell_type": "code",
   "execution_count": null,
   "id": "2bae3ab2-53a1-4e8f-a348-ad2fab5c7647",
   "metadata": {},
   "outputs": [],
   "source": []
  }
 ],
 "metadata": {
  "kernelspec": {
   "display_name": "Python (learn-env-test)",
   "language": "python",
   "name": "learn-env-test"
  },
  "language_info": {
   "codemirror_mode": {
    "name": "ipython",
    "version": 3
   },
   "file_extension": ".py",
   "mimetype": "text/x-python",
   "name": "python",
   "nbconvert_exporter": "python",
   "pygments_lexer": "ipython3",
   "version": "3.11.5"
  }
 },
 "nbformat": 4,
 "nbformat_minor": 5
}
