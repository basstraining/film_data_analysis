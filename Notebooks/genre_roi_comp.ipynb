{
 "cells": [
  {
   "cell_type": "code",
   "execution_count": 26,
   "id": "11b23749-b47e-4360-aa09-ab940697214a",
   "metadata": {},
   "outputs": [],
   "source": [
    "import pandas as pd\n",
    "import sqlite3\n",
    "import matplotlib.pyplot as plt"
   ]
  },
  {
   "cell_type": "code",
   "execution_count": 27,
   "id": "e5b3e02d-22bc-44e8-a152-a5e8073ba4ba",
   "metadata": {},
   "outputs": [],
   "source": [
    "budget_rating_info_df = pd.read_csv(\"../Data/budget_rating_info.csv\")"
   ]
  },
  {
   "cell_type": "code",
   "execution_count": 28,
   "id": "43a7fb09-9a5e-47e9-8b0f-93e3d8fb9c7f",
   "metadata": {},
   "outputs": [],
   "source": [
    "# create a list of all genres in the genre column\n",
    "# create unique list\n",
    "all_genres = budget_rating_info_df['genres'].str.split(',').explode()\n",
    "unique_genres = all_genres.unique()"
   ]
  },
  {
   "cell_type": "code",
   "execution_count": 29,
   "id": "d076f446-5d00-4c54-b33d-624332061572",
   "metadata": {},
   "outputs": [
    {
     "data": {
      "text/plain": [
       "array(['Horror', 'Action', 'Adventure', 'Fantasy', 'Sci-Fi', 'Thriller',\n",
       "       'Western', 'Animation', 'Comedy', 'Family', 'Crime', 'Drama',\n",
       "       'Romance', 'Mystery', 'History', 'Sport', 'Biography', 'War',\n",
       "       'Musical', 'Documentary', 'Music', nan, 'News'], dtype=object)"
      ]
     },
     "execution_count": 29,
     "metadata": {},
     "output_type": "execute_result"
    }
   ],
   "source": [
    "unique_genres"
   ]
  },
  {
   "cell_type": "code",
   "execution_count": 30,
   "id": "cd18a641-7c62-4779-8131-3d3ecc07548f",
   "metadata": {},
   "outputs": [],
   "source": [
    "# create a function that creates a new dataframe for each genre\n",
    "# if genre in row, add row to that genre's dataframe\n",
    "# having the same movie in multiple dataframes is okay"
   ]
  },
  {
   "cell_type": "code",
   "execution_count": 31,
   "id": "86d5cafe-19d4-472a-afa4-6e524c62f208",
   "metadata": {},
   "outputs": [],
   "source": [
    "def create_genre_dataframe(df, genre):\n",
    "    \"\"\"\n",
    "    Creates a dataframe containing only the rows where the specified genre is one of the genres.\n",
    "\n",
    "    :param df: The original dataframe with movie data.\n",
    "    :param genre: The genre to filter by.\n",
    "    :return: A dataframe containing only rows with the specified genre.\n",
    "    \"\"\"\n",
    "    # Filter rows where the genre column contains the specified genre\n",
    "    genre_df = df[df['genres'].astype(str).str.contains(genre, na=False)]\n",
    "    return genre_df"
   ]
  },
  {
   "cell_type": "code",
   "execution_count": 55,
   "id": "585acd8f-9f16-4315-b1a3-cda1a12b8b9b",
   "metadata": {},
   "outputs": [],
   "source": [
    "horror_df = create_genre_dataframe(budget_rating_info_df, 'Horror')"
   ]
  },
  {
   "cell_type": "code",
   "execution_count": 34,
   "id": "651327e5-99aa-4811-be01-8cc12f14bf0a",
   "metadata": {},
   "outputs": [],
   "source": [
    "action_df = create_genre_dataframe(budget_rating_info_df, 'Action')"
   ]
  },
  {
   "cell_type": "code",
   "execution_count": 35,
   "id": "c7ffc6b6-5b3d-4220-8f75-a23e41c8d8b2",
   "metadata": {},
   "outputs": [],
   "source": [
    "adventure_df = create_genre_dataframe(budget_rating_info_df, 'Adventure')"
   ]
  },
  {
   "cell_type": "code",
   "execution_count": 36,
   "id": "5748da3c-42e6-4648-8388-6d43d2aac1e0",
   "metadata": {},
   "outputs": [],
   "source": [
    "fantasy_df = create_genre_dataframe(budget_rating_info_df, 'Fantasy')"
   ]
  },
  {
   "cell_type": "code",
   "execution_count": 37,
   "id": "7d5edcf1-9a9c-4dc3-9f6b-1186a451aedf",
   "metadata": {},
   "outputs": [],
   "source": [
    "scifi_df = create_genre_dataframe(budget_rating_info_df, 'Sci-Fi')"
   ]
  },
  {
   "cell_type": "code",
   "execution_count": 38,
   "id": "44a270d8-9b77-43dd-8358-6d1a2430c6e4",
   "metadata": {},
   "outputs": [],
   "source": [
    "thriller_df = create_genre_dataframe(budget_rating_info_df, 'Thriller')"
   ]
  },
  {
   "cell_type": "code",
   "execution_count": 39,
   "id": "0161c787-32d0-4f37-b48e-2fb7dd874cf6",
   "metadata": {},
   "outputs": [],
   "source": [
    "western_df = create_genre_dataframe(budget_rating_info_df, 'Western')"
   ]
  },
  {
   "cell_type": "code",
   "execution_count": 40,
   "id": "27064227-af04-43c6-bd44-f2b2febb5971",
   "metadata": {},
   "outputs": [],
   "source": [
    "animation_df = create_genre_dataframe(budget_rating_info_df, 'Animation')"
   ]
  },
  {
   "cell_type": "code",
   "execution_count": 41,
   "id": "f9a87033-f9f1-46c1-a97b-28cf39388060",
   "metadata": {},
   "outputs": [],
   "source": [
    "comedy_df = create_genre_dataframe(budget_rating_info_df, 'Comedy')"
   ]
  },
  {
   "cell_type": "code",
   "execution_count": 42,
   "id": "e5624efd-e575-405f-9ce8-9f0c71e13d48",
   "metadata": {},
   "outputs": [],
   "source": [
    "family_df = create_genre_dataframe(budget_rating_info_df, 'Family')"
   ]
  },
  {
   "cell_type": "code",
   "execution_count": 43,
   "id": "1190e8fb-21aa-458b-b02d-83614dea7d32",
   "metadata": {},
   "outputs": [],
   "source": [
    "crime_df = create_genre_dataframe(budget_rating_info_df, 'Crime')"
   ]
  },
  {
   "cell_type": "code",
   "execution_count": 44,
   "id": "d8f9d4a2-cc85-4aee-83fd-bed36e5c85f0",
   "metadata": {},
   "outputs": [],
   "source": [
    "drama_df = create_genre_dataframe(budget_rating_info_df, 'Drama')"
   ]
  },
  {
   "cell_type": "code",
   "execution_count": 45,
   "id": "2db95c6c-6ea4-4343-848e-c54e72b0eb36",
   "metadata": {},
   "outputs": [],
   "source": [
    "romance_df = create_genre_dataframe(budget_rating_info_df, 'Romance')"
   ]
  },
  {
   "cell_type": "code",
   "execution_count": 46,
   "id": "99b003df-a2d7-412d-89c3-b773dbb558fd",
   "metadata": {},
   "outputs": [],
   "source": [
    "mystery_df = create_genre_dataframe(budget_rating_info_df, 'Mystery')"
   ]
  },
  {
   "cell_type": "code",
   "execution_count": 47,
   "id": "045c9af4-bd6c-4960-b23e-23dc108d1879",
   "metadata": {},
   "outputs": [],
   "source": [
    "history_df = create_genre_dataframe(budget_rating_info_df, 'History')"
   ]
  },
  {
   "cell_type": "code",
   "execution_count": 48,
   "id": "acf816c9-79bf-4292-b754-b194e5546954",
   "metadata": {},
   "outputs": [],
   "source": [
    "sports_df = create_genre_dataframe(budget_rating_info_df, 'Sport')"
   ]
  },
  {
   "cell_type": "code",
   "execution_count": 49,
   "id": "f3e56ba5-6c9a-4963-8e05-b76e1bbc3894",
   "metadata": {},
   "outputs": [],
   "source": [
    "biography_df = create_genre_dataframe(budget_rating_info_df, 'Biography')"
   ]
  },
  {
   "cell_type": "code",
   "execution_count": 50,
   "id": "2f56972f-038d-46d8-b6c9-101107b7d170",
   "metadata": {},
   "outputs": [],
   "source": [
    "war_df = create_genre_dataframe(budget_rating_info_df, 'War')"
   ]
  },
  {
   "cell_type": "code",
   "execution_count": 51,
   "id": "839a253f-91fa-4583-a0b0-a1c8ae8944e2",
   "metadata": {},
   "outputs": [],
   "source": [
    "musical_df = create_genre_dataframe(budget_rating_info_df, 'Musical')"
   ]
  },
  {
   "cell_type": "code",
   "execution_count": 52,
   "id": "e43313b2-6ce4-42fb-ab21-846714641b63",
   "metadata": {},
   "outputs": [],
   "source": [
    "documentary_df = create_genre_dataframe(budget_rating_info_df, 'Documentary')"
   ]
  },
  {
   "cell_type": "code",
   "execution_count": 53,
   "id": "13bbb38d-0f69-49e3-9f02-3b3e8c6072c1",
   "metadata": {},
   "outputs": [],
   "source": [
    "music_df = create_genre_dataframe(budget_rating_info_df, 'Music')"
   ]
  },
  {
   "cell_type": "code",
   "execution_count": 54,
   "id": "aa53d55b-425f-4f5f-8146-5fbc1f8083c0",
   "metadata": {},
   "outputs": [],
   "source": [
    "news_df = create_genre_dataframe(budget_rating_info_df, 'News')"
   ]
  },
  {
   "cell_type": "code",
   "execution_count": 56,
   "id": "73ad9575-d514-4725-823d-7b7a9f45217c",
   "metadata": {},
   "outputs": [
    {
     "data": {
      "text/html": [
       "<div>\n",
       "<style scoped>\n",
       "    .dataframe tbody tr th:only-of-type {\n",
       "        vertical-align: middle;\n",
       "    }\n",
       "\n",
       "    .dataframe tbody tr th {\n",
       "        vertical-align: top;\n",
       "    }\n",
       "\n",
       "    .dataframe thead th {\n",
       "        text-align: right;\n",
       "    }\n",
       "</style>\n",
       "<table border=\"1\" class=\"dataframe\">\n",
       "  <thead>\n",
       "    <tr style=\"text-align: right;\">\n",
       "      <th></th>\n",
       "      <th>id_x</th>\n",
       "      <th>movie</th>\n",
       "      <th>production_budget</th>\n",
       "      <th>domestic_gross</th>\n",
       "      <th>worldwide_gross</th>\n",
       "      <th>total_gross</th>\n",
       "      <th>net_revenue</th>\n",
       "      <th>original_language</th>\n",
       "      <th>popularity</th>\n",
       "      <th>release_date_y</th>\n",
       "      <th>vote_average</th>\n",
       "      <th>vote_count</th>\n",
       "      <th>start_year</th>\n",
       "      <th>runtime_minutes</th>\n",
       "      <th>genres</th>\n",
       "      <th>imdb_averagerating</th>\n",
       "      <th>imdb_numvotes</th>\n",
       "      <th>ROI%</th>\n",
       "    </tr>\n",
       "  </thead>\n",
       "  <tbody>\n",
       "    <tr>\n",
       "      <th>1097</th>\n",
       "      <td>13</td>\n",
       "      <td>Fortress</td>\n",
       "      <td>12000000</td>\n",
       "      <td>6730578</td>\n",
       "      <td>46730578</td>\n",
       "      <td>53461156</td>\n",
       "      <td>41461156</td>\n",
       "      <td>en</td>\n",
       "      <td>4.738</td>\n",
       "      <td>2012-04-01</td>\n",
       "      <td>5.4</td>\n",
       "      <td>21</td>\n",
       "      <td>2012</td>\n",
       "      <td>70.0</td>\n",
       "      <td>Documentary,Drama,News</td>\n",
       "      <td>7.0</td>\n",
       "      <td>31</td>\n",
       "      <td>345.509633</td>\n",
       "    </tr>\n",
       "  </tbody>\n",
       "</table>\n",
       "</div>"
      ],
      "text/plain": [
       "      id_x     movie  production_budget  domestic_gross  worldwide_gross  \\\n",
       "1097    13  Fortress           12000000         6730578         46730578   \n",
       "\n",
       "      total_gross  net_revenue original_language  popularity release_date_y  \\\n",
       "1097     53461156     41461156                en       4.738     2012-04-01   \n",
       "\n",
       "      vote_average  vote_count  start_year  runtime_minutes  \\\n",
       "1097           5.4          21        2012             70.0   \n",
       "\n",
       "                      genres  imdb_averagerating  imdb_numvotes        ROI%  \n",
       "1097  Documentary,Drama,News                 7.0             31  345.509633  "
      ]
     },
     "execution_count": 56,
     "metadata": {},
     "output_type": "execute_result"
    }
   ],
   "source": [
    "news_df"
   ]
  },
  {
   "cell_type": "code",
   "execution_count": 58,
   "id": "2a0cd324-06a1-48f8-9238-2a8efc596c61",
   "metadata": {},
   "outputs": [
    {
     "data": {
      "text/html": [
       "<div>\n",
       "<style scoped>\n",
       "    .dataframe tbody tr th:only-of-type {\n",
       "        vertical-align: middle;\n",
       "    }\n",
       "\n",
       "    .dataframe tbody tr th {\n",
       "        vertical-align: top;\n",
       "    }\n",
       "\n",
       "    .dataframe thead th {\n",
       "        text-align: right;\n",
       "    }\n",
       "</style>\n",
       "<table border=\"1\" class=\"dataframe\">\n",
       "  <thead>\n",
       "    <tr style=\"text-align: right;\">\n",
       "      <th></th>\n",
       "      <th>id_x</th>\n",
       "      <th>movie</th>\n",
       "      <th>production_budget</th>\n",
       "      <th>domestic_gross</th>\n",
       "      <th>worldwide_gross</th>\n",
       "      <th>total_gross</th>\n",
       "      <th>net_revenue</th>\n",
       "      <th>original_language</th>\n",
       "      <th>popularity</th>\n",
       "      <th>release_date_y</th>\n",
       "      <th>vote_average</th>\n",
       "      <th>vote_count</th>\n",
       "      <th>start_year</th>\n",
       "      <th>runtime_minutes</th>\n",
       "      <th>genres</th>\n",
       "      <th>imdb_averagerating</th>\n",
       "      <th>imdb_numvotes</th>\n",
       "      <th>ROI%</th>\n",
       "    </tr>\n",
       "  </thead>\n",
       "  <tbody>\n",
       "    <tr>\n",
       "      <th>254</th>\n",
       "      <td>25</td>\n",
       "      <td>The Greatest Showman</td>\n",
       "      <td>84000000</td>\n",
       "      <td>174340174</td>\n",
       "      <td>386665550</td>\n",
       "      <td>561005724</td>\n",
       "      <td>477005724</td>\n",
       "      <td>en</td>\n",
       "      <td>22.009</td>\n",
       "      <td>2017-12-20</td>\n",
       "      <td>8.0</td>\n",
       "      <td>5197</td>\n",
       "      <td>2017</td>\n",
       "      <td>105.0</td>\n",
       "      <td>Biography,Drama,Musical</td>\n",
       "      <td>7.6</td>\n",
       "      <td>199663</td>\n",
       "      <td>567.863957</td>\n",
       "    </tr>\n",
       "    <tr>\n",
       "      <th>304</th>\n",
       "      <td>29</td>\n",
       "      <td>Rock of Ages</td>\n",
       "      <td>70000000</td>\n",
       "      <td>38518613</td>\n",
       "      <td>61031932</td>\n",
       "      <td>99550545</td>\n",
       "      <td>29550545</td>\n",
       "      <td>en</td>\n",
       "      <td>11.369</td>\n",
       "      <td>2012-06-15</td>\n",
       "      <td>6.1</td>\n",
       "      <td>686</td>\n",
       "      <td>2012</td>\n",
       "      <td>123.0</td>\n",
       "      <td>Comedy,Drama,Musical</td>\n",
       "      <td>5.9</td>\n",
       "      <td>69910</td>\n",
       "      <td>42.215064</td>\n",
       "    </tr>\n",
       "    <tr>\n",
       "      <th>395</th>\n",
       "      <td>24</td>\n",
       "      <td>Burlesque</td>\n",
       "      <td>55000000</td>\n",
       "      <td>39440655</td>\n",
       "      <td>90552675</td>\n",
       "      <td>129993330</td>\n",
       "      <td>74993330</td>\n",
       "      <td>en</td>\n",
       "      <td>8.676</td>\n",
       "      <td>2010-11-23</td>\n",
       "      <td>7.1</td>\n",
       "      <td>1195</td>\n",
       "      <td>2010</td>\n",
       "      <td>119.0</td>\n",
       "      <td>Drama,Music,Musical</td>\n",
       "      <td>6.4</td>\n",
       "      <td>71021</td>\n",
       "      <td>136.351509</td>\n",
       "    </tr>\n",
       "    <tr>\n",
       "      <th>872</th>\n",
       "      <td>83</td>\n",
       "      <td>The Covenant</td>\n",
       "      <td>20000000</td>\n",
       "      <td>23364784</td>\n",
       "      <td>38164784</td>\n",
       "      <td>61529568</td>\n",
       "      <td>41529568</td>\n",
       "      <td>en</td>\n",
       "      <td>2.733</td>\n",
       "      <td>2017-02-07</td>\n",
       "      <td>4.4</td>\n",
       "      <td>14</td>\n",
       "      <td>2013</td>\n",
       "      <td>99.0</td>\n",
       "      <td>Musical</td>\n",
       "      <td>6.2</td>\n",
       "      <td>5</td>\n",
       "      <td>207.647840</td>\n",
       "    </tr>\n",
       "    <tr>\n",
       "      <th>1304</th>\n",
       "      <td>11</td>\n",
       "      <td>Standing Ovation</td>\n",
       "      <td>5600000</td>\n",
       "      <td>531806</td>\n",
       "      <td>531806</td>\n",
       "      <td>1063612</td>\n",
       "      <td>-4536388</td>\n",
       "      <td>en</td>\n",
       "      <td>1.224</td>\n",
       "      <td>2010-07-16</td>\n",
       "      <td>4.3</td>\n",
       "      <td>12</td>\n",
       "      <td>2010</td>\n",
       "      <td>105.0</td>\n",
       "      <td>Musical</td>\n",
       "      <td>3.3</td>\n",
       "      <td>658</td>\n",
       "      <td>-81.006929</td>\n",
       "    </tr>\n",
       "    <tr>\n",
       "      <th>1527</th>\n",
       "      <td>51</td>\n",
       "      <td>The Last Five Years</td>\n",
       "      <td>2000000</td>\n",
       "      <td>147299</td>\n",
       "      <td>205298</td>\n",
       "      <td>352597</td>\n",
       "      <td>-1647403</td>\n",
       "      <td>en</td>\n",
       "      <td>5.079</td>\n",
       "      <td>2015-02-13</td>\n",
       "      <td>5.9</td>\n",
       "      <td>230</td>\n",
       "      <td>2014</td>\n",
       "      <td>94.0</td>\n",
       "      <td>Comedy,Drama,Musical</td>\n",
       "      <td>5.9</td>\n",
       "      <td>8735</td>\n",
       "      <td>-82.370150</td>\n",
       "    </tr>\n",
       "    <tr>\n",
       "      <th>1534</th>\n",
       "      <td>74</td>\n",
       "      <td>The Ghastly Love of Johnny X</td>\n",
       "      <td>2000000</td>\n",
       "      <td>2436</td>\n",
       "      <td>2436</td>\n",
       "      <td>4872</td>\n",
       "      <td>-1995128</td>\n",
       "      <td>en</td>\n",
       "      <td>2.971</td>\n",
       "      <td>2013-04-26</td>\n",
       "      <td>6.5</td>\n",
       "      <td>9</td>\n",
       "      <td>2012</td>\n",
       "      <td>106.0</td>\n",
       "      <td>Comedy,Fantasy,Musical</td>\n",
       "      <td>5.7</td>\n",
       "      <td>386</td>\n",
       "      <td>-99.756400</td>\n",
       "    </tr>\n",
       "    <tr>\n",
       "      <th>1698</th>\n",
       "      <td>87</td>\n",
       "      <td>Alleluia! The Devil's Carnival</td>\n",
       "      <td>500000</td>\n",
       "      <td>0</td>\n",
       "      <td>0</td>\n",
       "      <td>0</td>\n",
       "      <td>-500000</td>\n",
       "      <td>en</td>\n",
       "      <td>3.058</td>\n",
       "      <td>2016-03-29</td>\n",
       "      <td>7.0</td>\n",
       "      <td>9</td>\n",
       "      <td>2016</td>\n",
       "      <td>97.0</td>\n",
       "      <td>Horror,Musical</td>\n",
       "      <td>6.9</td>\n",
       "      <td>534</td>\n",
       "      <td>-100.000000</td>\n",
       "    </tr>\n",
       "  </tbody>\n",
       "</table>\n",
       "</div>"
      ],
      "text/plain": [
       "      id_x                           movie  production_budget  domestic_gross  \\\n",
       "254     25            The Greatest Showman           84000000       174340174   \n",
       "304     29                    Rock of Ages           70000000        38518613   \n",
       "395     24                       Burlesque           55000000        39440655   \n",
       "872     83                    The Covenant           20000000        23364784   \n",
       "1304    11                Standing Ovation            5600000          531806   \n",
       "1527    51             The Last Five Years            2000000          147299   \n",
       "1534    74    The Ghastly Love of Johnny X            2000000            2436   \n",
       "1698    87  Alleluia! The Devil's Carnival             500000               0   \n",
       "\n",
       "      worldwide_gross  total_gross  net_revenue original_language  popularity  \\\n",
       "254         386665550    561005724    477005724                en      22.009   \n",
       "304          61031932     99550545     29550545                en      11.369   \n",
       "395          90552675    129993330     74993330                en       8.676   \n",
       "872          38164784     61529568     41529568                en       2.733   \n",
       "1304           531806      1063612     -4536388                en       1.224   \n",
       "1527           205298       352597     -1647403                en       5.079   \n",
       "1534             2436         4872     -1995128                en       2.971   \n",
       "1698                0            0      -500000                en       3.058   \n",
       "\n",
       "     release_date_y  vote_average  vote_count  start_year  runtime_minutes  \\\n",
       "254      2017-12-20           8.0        5197        2017            105.0   \n",
       "304      2012-06-15           6.1         686        2012            123.0   \n",
       "395      2010-11-23           7.1        1195        2010            119.0   \n",
       "872      2017-02-07           4.4          14        2013             99.0   \n",
       "1304     2010-07-16           4.3          12        2010            105.0   \n",
       "1527     2015-02-13           5.9         230        2014             94.0   \n",
       "1534     2013-04-26           6.5           9        2012            106.0   \n",
       "1698     2016-03-29           7.0           9        2016             97.0   \n",
       "\n",
       "                       genres  imdb_averagerating  imdb_numvotes        ROI%  \n",
       "254   Biography,Drama,Musical                 7.6         199663  567.863957  \n",
       "304      Comedy,Drama,Musical                 5.9          69910   42.215064  \n",
       "395       Drama,Music,Musical                 6.4          71021  136.351509  \n",
       "872                   Musical                 6.2              5  207.647840  \n",
       "1304                  Musical                 3.3            658  -81.006929  \n",
       "1527     Comedy,Drama,Musical                 5.9           8735  -82.370150  \n",
       "1534   Comedy,Fantasy,Musical                 5.7            386  -99.756400  \n",
       "1698           Horror,Musical                 6.9            534 -100.000000  "
      ]
     },
     "execution_count": 58,
     "metadata": {},
     "output_type": "execute_result"
    }
   ],
   "source": [
    "musical_df"
   ]
  },
  {
   "cell_type": "code",
   "execution_count": null,
   "id": "c429ab59-bd2f-4410-8cb6-c8e0dd861477",
   "metadata": {},
   "outputs": [],
   "source": []
  },
  {
   "cell_type": "code",
   "execution_count": null,
   "id": "291ff7f9-31bf-4f9e-950a-b881c7d5e178",
   "metadata": {},
   "outputs": [],
   "source": []
  },
  {
   "cell_type": "code",
   "execution_count": null,
   "id": "5e148fe8-3ade-4608-8c90-7aae1f086928",
   "metadata": {},
   "outputs": [],
   "source": []
  },
  {
   "cell_type": "code",
   "execution_count": null,
   "id": "6cb17b4a-51af-4a7b-97d3-fbbabd157021",
   "metadata": {},
   "outputs": [],
   "source": []
  },
  {
   "cell_type": "code",
   "execution_count": null,
   "id": "89fd2736-cbaa-473e-86fc-db1ac8692591",
   "metadata": {},
   "outputs": [],
   "source": []
  },
  {
   "cell_type": "code",
   "execution_count": null,
   "id": "6a191563-e2ed-48fc-b344-95e9f67446ca",
   "metadata": {},
   "outputs": [],
   "source": []
  },
  {
   "cell_type": "code",
   "execution_count": null,
   "id": "dacdda9d-6a86-4958-a106-ad654cd1f63f",
   "metadata": {},
   "outputs": [],
   "source": []
  },
  {
   "cell_type": "code",
   "execution_count": null,
   "id": "cefaee68-902c-491c-a1ee-00141ccba616",
   "metadata": {},
   "outputs": [],
   "source": []
  },
  {
   "cell_type": "code",
   "execution_count": null,
   "id": "b4b8fda1-aba3-446c-86c8-7d6590b57b3d",
   "metadata": {},
   "outputs": [],
   "source": []
  },
  {
   "cell_type": "code",
   "execution_count": null,
   "id": "6bf4de08-5205-424a-bf84-a9cdd9349ddf",
   "metadata": {},
   "outputs": [],
   "source": []
  },
  {
   "cell_type": "code",
   "execution_count": null,
   "id": "c50b911e-bb6a-4675-abc1-57f64da1bde8",
   "metadata": {},
   "outputs": [],
   "source": []
  }
 ],
 "metadata": {
  "kernelspec": {
   "display_name": "Python (learn-env-test)",
   "language": "python",
   "name": "learn-env-test"
  },
  "language_info": {
   "codemirror_mode": {
    "name": "ipython",
    "version": 3
   },
   "file_extension": ".py",
   "mimetype": "text/x-python",
   "name": "python",
   "nbconvert_exporter": "python",
   "pygments_lexer": "ipython3",
   "version": "3.11.5"
  }
 },
 "nbformat": 4,
 "nbformat_minor": 5
}
